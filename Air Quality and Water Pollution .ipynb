{
 "cells": [
  {
   "cell_type": "code",
   "execution_count": 87,
   "id": "05e74043",
   "metadata": {},
   "outputs": [],
   "source": [
    "import pandas as pd \n",
    "import seaborn as sns\n",
    "import matplotlib.pyplot as plt\n",
    "import numpy as np \n",
    "\n",
    "%matplotlib inline"
   ]
  },
  {
   "cell_type": "code",
   "execution_count": 88,
   "id": "f30bfc36",
   "metadata": {},
   "outputs": [],
   "source": [
    "data=pd.read_csv(r'/Users/smyy.karaalioglu/Desktop/kuggle/air_pollution.csv')"
   ]
  },
  {
   "cell_type": "code",
   "execution_count": 89,
   "id": "b1d55b48",
   "metadata": {},
   "outputs": [
    {
     "data": {
      "text/plain": [
       "Index(['City', ' \"Region\"', ' \"Country\"', ' \"AirQuality\"',\n",
       "       ' \"WaterPollution\"'],\n",
       "      dtype='object')"
      ]
     },
     "execution_count": 89,
     "metadata": {},
     "output_type": "execute_result"
    }
   ],
   "source": [
    "data.columns"
   ]
  },
  {
   "cell_type": "code",
   "execution_count": 90,
   "id": "340dfe09",
   "metadata": {},
   "outputs": [
    {
     "data": {
      "text/html": [
       "<div>\n",
       "<style scoped>\n",
       "    .dataframe tbody tr th:only-of-type {\n",
       "        vertical-align: middle;\n",
       "    }\n",
       "\n",
       "    .dataframe tbody tr th {\n",
       "        vertical-align: top;\n",
       "    }\n",
       "\n",
       "    .dataframe thead th {\n",
       "        text-align: right;\n",
       "    }\n",
       "</style>\n",
       "<table border=\"1\" class=\"dataframe\">\n",
       "  <thead>\n",
       "    <tr style=\"text-align: right;\">\n",
       "      <th></th>\n",
       "      <th>City</th>\n",
       "      <th>\"Region\"</th>\n",
       "      <th>\"Country\"</th>\n",
       "      <th>\"AirQuality\"</th>\n",
       "      <th>\"WaterPollution\"</th>\n",
       "    </tr>\n",
       "  </thead>\n",
       "  <tbody>\n",
       "    <tr>\n",
       "      <th>0</th>\n",
       "      <td>New York City</td>\n",
       "      <td>\"New York\"</td>\n",
       "      <td>\"United States of America\"</td>\n",
       "      <td>46.816038</td>\n",
       "      <td>49.504950</td>\n",
       "    </tr>\n",
       "    <tr>\n",
       "      <th>1</th>\n",
       "      <td>Washington, D.C.</td>\n",
       "      <td>\"District of Columbia\"</td>\n",
       "      <td>\"United States of America\"</td>\n",
       "      <td>66.129032</td>\n",
       "      <td>49.107143</td>\n",
       "    </tr>\n",
       "    <tr>\n",
       "      <th>2</th>\n",
       "      <td>San Francisco</td>\n",
       "      <td>\"California\"</td>\n",
       "      <td>\"United States of America\"</td>\n",
       "      <td>60.514019</td>\n",
       "      <td>43.000000</td>\n",
       "    </tr>\n",
       "    <tr>\n",
       "      <th>3</th>\n",
       "      <td>Berlin</td>\n",
       "      <td>\"\"</td>\n",
       "      <td>\"Germany\"</td>\n",
       "      <td>62.364130</td>\n",
       "      <td>28.612717</td>\n",
       "    </tr>\n",
       "    <tr>\n",
       "      <th>4</th>\n",
       "      <td>Los Angeles</td>\n",
       "      <td>\"California\"</td>\n",
       "      <td>\"United States of America\"</td>\n",
       "      <td>36.621622</td>\n",
       "      <td>61.299435</td>\n",
       "    </tr>\n",
       "  </tbody>\n",
       "</table>\n",
       "</div>"
      ],
      "text/plain": [
       "               City                 \"Region\"                    \"Country\"  \\\n",
       "0     New York City               \"New York\"   \"United States of America\"   \n",
       "1  Washington, D.C.   \"District of Columbia\"   \"United States of America\"   \n",
       "2     San Francisco             \"California\"   \"United States of America\"   \n",
       "3            Berlin                       \"\"                    \"Germany\"   \n",
       "4       Los Angeles             \"California\"   \"United States of America\"   \n",
       "\n",
       "    \"AirQuality\"   \"WaterPollution\"  \n",
       "0      46.816038          49.504950  \n",
       "1      66.129032          49.107143  \n",
       "2      60.514019          43.000000  \n",
       "3      62.364130          28.612717  \n",
       "4      36.621622          61.299435  "
      ]
     },
     "execution_count": 90,
     "metadata": {},
     "output_type": "execute_result"
    }
   ],
   "source": [
    "#Air Quality Column: Air quality varies from 0 (bad quality) to 100 (top good quality)\n",
    "#Water Pollution Column: Water pollution varies from 0 (no pollution) to 100 (extreme pollution)\n",
    "\n",
    "data.head(5)"
   ]
  },
  {
   "cell_type": "code",
   "execution_count": 91,
   "id": "8f98548b",
   "metadata": {},
   "outputs": [
    {
     "data": {
      "text/plain": [
       "City                  object\n",
       " \"Region\"             object\n",
       " \"Country\"            object\n",
       " \"AirQuality\"        float64\n",
       " \"WaterPollution\"    float64\n",
       "dtype: object"
      ]
     },
     "execution_count": 91,
     "metadata": {},
     "output_type": "execute_result"
    }
   ],
   "source": [
    "data.dtypes"
   ]
  },
  {
   "cell_type": "code",
   "execution_count": 92,
   "id": "438a6346",
   "metadata": {},
   "outputs": [
    {
     "data": {
      "text/plain": [
       "City                 0\n",
       " \"Region\"            0\n",
       " \"Country\"           0\n",
       " \"AirQuality\"        0\n",
       " \"WaterPollution\"    0\n",
       "dtype: int64"
      ]
     },
     "execution_count": 92,
     "metadata": {},
     "output_type": "execute_result"
    }
   ],
   "source": [
    "data.isnull().sum()"
   ]
  },
  {
   "cell_type": "code",
   "execution_count": 93,
   "id": "22e947b2",
   "metadata": {},
   "outputs": [
    {
     "data": {
      "text/plain": [
       "City                 3796\n",
       " \"Region\"            1153\n",
       " \"Country\"            177\n",
       " \"AirQuality\"         667\n",
       " \"WaterPollution\"     561\n",
       "dtype: int64"
      ]
     },
     "execution_count": 93,
     "metadata": {},
     "output_type": "execute_result"
    }
   ],
   "source": [
    "data.nunique()"
   ]
  },
  {
   "cell_type": "code",
   "execution_count": 94,
   "id": "179b3626",
   "metadata": {},
   "outputs": [],
   "source": [
    "#Cleaning white space from column names\n",
    "\n",
    "data.columns = data.columns.str.strip()"
   ]
  },
  {
   "cell_type": "code",
   "execution_count": 95,
   "id": "e5514ca9",
   "metadata": {},
   "outputs": [],
   "source": [
    "#Cleaning Column Headers\n",
    "\n",
    "data.columns = data.columns.str.replace('\"', '')"
   ]
  },
  {
   "cell_type": "code",
   "execution_count": 96,
   "id": "f9e0f5ce",
   "metadata": {},
   "outputs": [],
   "source": [
    "data.rename(columns={'\"Country\"':'Country'},inplace=True)\n",
    "data.rename(columns={'\"Region\"':'Region'},inplace=True)\n",
    "data.rename(columns={'\"AirQuality\"':'AirQuality'},inplace=True)\n",
    "data.rename(columns={'\"WaterPollution\"':'WaterPollution'},inplace=True)"
   ]
  },
  {
   "cell_type": "code",
   "execution_count": 97,
   "id": "70826378",
   "metadata": {},
   "outputs": [
    {
     "data": {
      "text/html": [
       "<div>\n",
       "<style scoped>\n",
       "    .dataframe tbody tr th:only-of-type {\n",
       "        vertical-align: middle;\n",
       "    }\n",
       "\n",
       "    .dataframe tbody tr th {\n",
       "        vertical-align: top;\n",
       "    }\n",
       "\n",
       "    .dataframe thead th {\n",
       "        text-align: right;\n",
       "    }\n",
       "</style>\n",
       "<table border=\"1\" class=\"dataframe\">\n",
       "  <thead>\n",
       "    <tr style=\"text-align: right;\">\n",
       "      <th></th>\n",
       "      <th>City</th>\n",
       "      <th>Region</th>\n",
       "      <th>Country</th>\n",
       "      <th>AirQuality</th>\n",
       "      <th>WaterPollution</th>\n",
       "    </tr>\n",
       "  </thead>\n",
       "  <tbody>\n",
       "    <tr>\n",
       "      <th>0</th>\n",
       "      <td>New York City</td>\n",
       "      <td>\"New York\"</td>\n",
       "      <td>\"United States of America\"</td>\n",
       "      <td>46.816038</td>\n",
       "      <td>49.50495</td>\n",
       "    </tr>\n",
       "  </tbody>\n",
       "</table>\n",
       "</div>"
      ],
      "text/plain": [
       "            City       Region                      Country  AirQuality  \\\n",
       "0  New York City   \"New York\"   \"United States of America\"   46.816038   \n",
       "\n",
       "   WaterPollution  \n",
       "0        49.50495  "
      ]
     },
     "execution_count": 97,
     "metadata": {},
     "output_type": "execute_result"
    }
   ],
   "source": [
    "data.head(1)"
   ]
  },
  {
   "cell_type": "code",
   "execution_count": 98,
   "id": "b184f390",
   "metadata": {},
   "outputs": [],
   "source": [
    "#There are still unexpected characters in column names\n",
    "\n",
    "import re\n",
    "\n",
    "def clean_column_name(col_name):\n",
    "    return re.sub(r'\\W+', '', col_name)\n",
    "\n",
    "\n",
    "data.columns = [clean_column_name(col) for col in data.columns]"
   ]
  },
  {
   "cell_type": "code",
   "execution_count": 99,
   "id": "7940ea59",
   "metadata": {},
   "outputs": [
    {
     "data": {
      "text/plain": [
       "City              0\n",
       "Region            0\n",
       "Country           0\n",
       "AirQuality        0\n",
       "WaterPollution    0\n",
       "dtype: int64"
      ]
     },
     "execution_count": 99,
     "metadata": {},
     "output_type": "execute_result"
    }
   ],
   "source": [
    "data[data.duplicated()].count()"
   ]
  },
  {
   "cell_type": "code",
   "execution_count": 101,
   "id": "aa7326d1",
   "metadata": {},
   "outputs": [
    {
     "data": {
      "text/html": [
       "<div>\n",
       "<style scoped>\n",
       "    .dataframe tbody tr th:only-of-type {\n",
       "        vertical-align: middle;\n",
       "    }\n",
       "\n",
       "    .dataframe tbody tr th {\n",
       "        vertical-align: top;\n",
       "    }\n",
       "\n",
       "    .dataframe thead th {\n",
       "        text-align: right;\n",
       "    }\n",
       "</style>\n",
       "<table border=\"1\" class=\"dataframe\">\n",
       "  <thead>\n",
       "    <tr style=\"text-align: right;\">\n",
       "      <th></th>\n",
       "      <th>City</th>\n",
       "      <th>Region</th>\n",
       "      <th>Country</th>\n",
       "      <th>AirQuality</th>\n",
       "      <th>WaterPollution</th>\n",
       "    </tr>\n",
       "  </thead>\n",
       "  <tbody>\n",
       "    <tr>\n",
       "      <th>0</th>\n",
       "      <td>New York City</td>\n",
       "      <td>New York</td>\n",
       "      <td>United States of America</td>\n",
       "      <td>46.816038</td>\n",
       "      <td>49.504950</td>\n",
       "    </tr>\n",
       "    <tr>\n",
       "      <th>1</th>\n",
       "      <td>Washington, D.C.</td>\n",
       "      <td>District of Columbia</td>\n",
       "      <td>United States of America</td>\n",
       "      <td>66.129032</td>\n",
       "      <td>49.107143</td>\n",
       "    </tr>\n",
       "  </tbody>\n",
       "</table>\n",
       "</div>"
      ],
      "text/plain": [
       "               City                 Region                    Country  \\\n",
       "0     New York City               New York   United States of America   \n",
       "1  Washington, D.C.   District of Columbia   United States of America   \n",
       "\n",
       "   AirQuality  WaterPollution  \n",
       "0   46.816038       49.504950  \n",
       "1   66.129032       49.107143  "
      ]
     },
     "execution_count": 101,
     "metadata": {},
     "output_type": "execute_result"
    }
   ],
   "source": [
    "#Cleaning rows\n",
    "\n",
    "data['Country'] = data['Country'].str.replace('\"', '')\n",
    "data['Region'] = data['Region'].str.replace('\"', '')\n",
    "data.head(2)"
   ]
  },
  {
   "cell_type": "code",
   "execution_count": 102,
   "id": "1d4675f3",
   "metadata": {},
   "outputs": [
    {
     "data": {
      "text/html": [
       "<div>\n",
       "<style scoped>\n",
       "    .dataframe tbody tr th:only-of-type {\n",
       "        vertical-align: middle;\n",
       "    }\n",
       "\n",
       "    .dataframe tbody tr th {\n",
       "        vertical-align: top;\n",
       "    }\n",
       "\n",
       "    .dataframe thead th {\n",
       "        text-align: right;\n",
       "    }\n",
       "</style>\n",
       "<table border=\"1\" class=\"dataframe\">\n",
       "  <thead>\n",
       "    <tr style=\"text-align: right;\">\n",
       "      <th></th>\n",
       "      <th>City</th>\n",
       "      <th>Region</th>\n",
       "      <th>Country</th>\n",
       "      <th>AirQuality</th>\n",
       "      <th>WaterPollution</th>\n",
       "    </tr>\n",
       "  </thead>\n",
       "  <tbody>\n",
       "    <tr>\n",
       "      <th>0</th>\n",
       "      <td>New York City</td>\n",
       "      <td>New York</td>\n",
       "      <td>United States of America</td>\n",
       "      <td>46.82</td>\n",
       "      <td>49.504950</td>\n",
       "    </tr>\n",
       "    <tr>\n",
       "      <th>1</th>\n",
       "      <td>Washington, D.C.</td>\n",
       "      <td>District of Columbia</td>\n",
       "      <td>United States of America</td>\n",
       "      <td>66.13</td>\n",
       "      <td>49.107143</td>\n",
       "    </tr>\n",
       "  </tbody>\n",
       "</table>\n",
       "</div>"
      ],
      "text/plain": [
       "               City                 Region                    Country  \\\n",
       "0     New York City               New York   United States of America   \n",
       "1  Washington, D.C.   District of Columbia   United States of America   \n",
       "\n",
       "   AirQuality  WaterPollution  \n",
       "0       46.82       49.504950  \n",
       "1       66.13       49.107143  "
      ]
     },
     "execution_count": 102,
     "metadata": {},
     "output_type": "execute_result"
    }
   ],
   "source": [
    "data['AirQuality'] = data['AirQuality'].round(2)\n",
    "data.head(2)"
   ]
  },
  {
   "cell_type": "code",
   "execution_count": 103,
   "id": "86e12551",
   "metadata": {},
   "outputs": [
    {
     "data": {
      "text/html": [
       "<div>\n",
       "<style scoped>\n",
       "    .dataframe tbody tr th:only-of-type {\n",
       "        vertical-align: middle;\n",
       "    }\n",
       "\n",
       "    .dataframe tbody tr th {\n",
       "        vertical-align: top;\n",
       "    }\n",
       "\n",
       "    .dataframe thead th {\n",
       "        text-align: right;\n",
       "    }\n",
       "</style>\n",
       "<table border=\"1\" class=\"dataframe\">\n",
       "  <thead>\n",
       "    <tr style=\"text-align: right;\">\n",
       "      <th></th>\n",
       "      <th>City</th>\n",
       "      <th>Region</th>\n",
       "      <th>Country</th>\n",
       "      <th>AirQuality</th>\n",
       "      <th>WaterPollution</th>\n",
       "    </tr>\n",
       "  </thead>\n",
       "  <tbody>\n",
       "    <tr>\n",
       "      <th>0</th>\n",
       "      <td>New York City</td>\n",
       "      <td>New York</td>\n",
       "      <td>United States of America</td>\n",
       "      <td>46.82</td>\n",
       "      <td>49.50</td>\n",
       "    </tr>\n",
       "    <tr>\n",
       "      <th>1</th>\n",
       "      <td>Washington, D.C.</td>\n",
       "      <td>District of Columbia</td>\n",
       "      <td>United States of America</td>\n",
       "      <td>66.13</td>\n",
       "      <td>49.11</td>\n",
       "    </tr>\n",
       "  </tbody>\n",
       "</table>\n",
       "</div>"
      ],
      "text/plain": [
       "               City                 Region                    Country  \\\n",
       "0     New York City               New York   United States of America   \n",
       "1  Washington, D.C.   District of Columbia   United States of America   \n",
       "\n",
       "   AirQuality  WaterPollution  \n",
       "0       46.82           49.50  \n",
       "1       66.13           49.11  "
      ]
     },
     "execution_count": 103,
     "metadata": {},
     "output_type": "execute_result"
    }
   ],
   "source": [
    "data['WaterPollution'] = data['WaterPollution'].round(2)\n",
    "data.head(2)\n"
   ]
  },
  {
   "cell_type": "code",
   "execution_count": 104,
   "id": "2078b87d",
   "metadata": {},
   "outputs": [
    {
     "data": {
      "text/html": [
       "<div>\n",
       "<style scoped>\n",
       "    .dataframe tbody tr th:only-of-type {\n",
       "        vertical-align: middle;\n",
       "    }\n",
       "\n",
       "    .dataframe tbody tr th {\n",
       "        vertical-align: top;\n",
       "    }\n",
       "\n",
       "    .dataframe thead th {\n",
       "        text-align: right;\n",
       "    }\n",
       "</style>\n",
       "<table border=\"1\" class=\"dataframe\">\n",
       "  <thead>\n",
       "    <tr style=\"text-align: right;\">\n",
       "      <th></th>\n",
       "      <th>City</th>\n",
       "      <th>Region</th>\n",
       "      <th>Country</th>\n",
       "      <th>AirQuality</th>\n",
       "      <th>WaterPollution</th>\n",
       "    </tr>\n",
       "  </thead>\n",
       "  <tbody>\n",
       "    <tr>\n",
       "      <th>2785</th>\n",
       "      <td>Farah</td>\n",
       "      <td>Farah</td>\n",
       "      <td>Afghanistan</td>\n",
       "      <td>100.0</td>\n",
       "      <td>0.0</td>\n",
       "    </tr>\n",
       "    <tr>\n",
       "      <th>2862</th>\n",
       "      <td>Permet</td>\n",
       "      <td>Gjirokaster County</td>\n",
       "      <td>Albania</td>\n",
       "      <td>100.0</td>\n",
       "      <td>0.0</td>\n",
       "    </tr>\n",
       "    <tr>\n",
       "      <th>3614</th>\n",
       "      <td>Khenchela</td>\n",
       "      <td>Khenchela Province</td>\n",
       "      <td>Algeria</td>\n",
       "      <td>100.0</td>\n",
       "      <td>0.0</td>\n",
       "    </tr>\n",
       "    <tr>\n",
       "      <th>3315</th>\n",
       "      <td>Tebessa</td>\n",
       "      <td>Tebessa Province</td>\n",
       "      <td>Algeria</td>\n",
       "      <td>100.0</td>\n",
       "      <td>0.0</td>\n",
       "    </tr>\n",
       "    <tr>\n",
       "      <th>3716</th>\n",
       "      <td>San Isidro</td>\n",
       "      <td>Buenos Aires Province</td>\n",
       "      <td>Argentina</td>\n",
       "      <td>100.0</td>\n",
       "      <td>0.0</td>\n",
       "    </tr>\n",
       "    <tr>\n",
       "      <th>...</th>\n",
       "      <td>...</td>\n",
       "      <td>...</td>\n",
       "      <td>...</td>\n",
       "      <td>...</td>\n",
       "      <td>...</td>\n",
       "    </tr>\n",
       "    <tr>\n",
       "      <th>3295</th>\n",
       "      <td>San Marcos</td>\n",
       "      <td>Texas</td>\n",
       "      <td>United States of America</td>\n",
       "      <td>100.0</td>\n",
       "      <td>0.0</td>\n",
       "    </tr>\n",
       "    <tr>\n",
       "      <th>3294</th>\n",
       "      <td>Leander</td>\n",
       "      <td>Texas</td>\n",
       "      <td>United States of America</td>\n",
       "      <td>100.0</td>\n",
       "      <td>0.0</td>\n",
       "    </tr>\n",
       "    <tr>\n",
       "      <th>3534</th>\n",
       "      <td>Woodland</td>\n",
       "      <td>Washington</td>\n",
       "      <td>United States of America</td>\n",
       "      <td>100.0</td>\n",
       "      <td>0.0</td>\n",
       "    </tr>\n",
       "    <tr>\n",
       "      <th>3307</th>\n",
       "      <td>Oxford</td>\n",
       "      <td>Mississippi</td>\n",
       "      <td>United States of America</td>\n",
       "      <td>100.0</td>\n",
       "      <td>0.0</td>\n",
       "    </tr>\n",
       "    <tr>\n",
       "      <th>674</th>\n",
       "      <td>Maldonado</td>\n",
       "      <td>Maldonado Department</td>\n",
       "      <td>Uruguay</td>\n",
       "      <td>100.0</td>\n",
       "      <td>0.0</td>\n",
       "    </tr>\n",
       "  </tbody>\n",
       "</table>\n",
       "<p>248 rows × 5 columns</p>\n",
       "</div>"
      ],
      "text/plain": [
       "            City                  Region                    Country  \\\n",
       "2785       Farah                   Farah                Afghanistan   \n",
       "2862      Permet      Gjirokaster County                    Albania   \n",
       "3614   Khenchela      Khenchela Province                    Algeria   \n",
       "3315     Tebessa        Tebessa Province                    Algeria   \n",
       "3716  San Isidro   Buenos Aires Province                  Argentina   \n",
       "...          ...                     ...                        ...   \n",
       "3295  San Marcos                   Texas   United States of America   \n",
       "3294     Leander                   Texas   United States of America   \n",
       "3534    Woodland              Washington   United States of America   \n",
       "3307      Oxford             Mississippi   United States of America   \n",
       "674    Maldonado    Maldonado Department                    Uruguay   \n",
       "\n",
       "      AirQuality  WaterPollution  \n",
       "2785       100.0             0.0  \n",
       "2862       100.0             0.0  \n",
       "3614       100.0             0.0  \n",
       "3315       100.0             0.0  \n",
       "3716       100.0             0.0  \n",
       "...          ...             ...  \n",
       "3295       100.0             0.0  \n",
       "3294       100.0             0.0  \n",
       "3534       100.0             0.0  \n",
       "3307       100.0             0.0  \n",
       "674        100.0             0.0  \n",
       "\n",
       "[248 rows x 5 columns]"
      ]
     },
     "execution_count": 104,
     "metadata": {},
     "output_type": "execute_result"
    }
   ],
   "source": [
    "# Air quality varies from 0 (bad quality) to 100 (top good quality)\n",
    "# Water pollution varies from 0 (no pollution) to 100 (extreme pollution)\n",
    "\n",
    "#Which Cities have the highest air quality and lowest water pollution levels?\n",
    "#248 cities.\n",
    "\n",
    "data[(data['WaterPollution'] == 0 ) & (data['AirQuality']== 100)].sort_values(by='Country')\n"
   ]
  },
  {
   "cell_type": "code",
   "execution_count": 116,
   "id": "140210ae",
   "metadata": {},
   "outputs": [
    {
     "data": {
      "text/html": [
       "<div>\n",
       "<style scoped>\n",
       "    .dataframe tbody tr th:only-of-type {\n",
       "        vertical-align: middle;\n",
       "    }\n",
       "\n",
       "    .dataframe tbody tr th {\n",
       "        vertical-align: top;\n",
       "    }\n",
       "\n",
       "    .dataframe thead th {\n",
       "        text-align: right;\n",
       "    }\n",
       "</style>\n",
       "<table border=\"1\" class=\"dataframe\">\n",
       "  <thead>\n",
       "    <tr style=\"text-align: right;\">\n",
       "      <th></th>\n",
       "      <th>City</th>\n",
       "      <th>Region</th>\n",
       "      <th>Country</th>\n",
       "      <th>AirQuality</th>\n",
       "      <th>WaterPollution</th>\n",
       "    </tr>\n",
       "  </thead>\n",
       "  <tbody>\n",
       "    <tr>\n",
       "      <th>2144</th>\n",
       "      <td>Lushnje</td>\n",
       "      <td>Fier County</td>\n",
       "      <td>Albania</td>\n",
       "      <td>0.0</td>\n",
       "      <td>100.0</td>\n",
       "    </tr>\n",
       "    <tr>\n",
       "      <th>3734</th>\n",
       "      <td>Skikda</td>\n",
       "      <td>Skikda Province</td>\n",
       "      <td>Algeria</td>\n",
       "      <td>0.0</td>\n",
       "      <td>100.0</td>\n",
       "    </tr>\n",
       "    <tr>\n",
       "      <th>3226</th>\n",
       "      <td>Avellaneda</td>\n",
       "      <td>Santa Fe Province</td>\n",
       "      <td>Argentina</td>\n",
       "      <td>0.0</td>\n",
       "      <td>100.0</td>\n",
       "    </tr>\n",
       "    <tr>\n",
       "      <th>2654</th>\n",
       "      <td>Bendigo</td>\n",
       "      <td>Victoria</td>\n",
       "      <td>Australia</td>\n",
       "      <td>0.0</td>\n",
       "      <td>100.0</td>\n",
       "    </tr>\n",
       "    <tr>\n",
       "      <th>3931</th>\n",
       "      <td>Beringen</td>\n",
       "      <td>Flemish Region</td>\n",
       "      <td>Belgium</td>\n",
       "      <td>0.0</td>\n",
       "      <td>100.0</td>\n",
       "    </tr>\n",
       "    <tr>\n",
       "      <th>...</th>\n",
       "      <td>...</td>\n",
       "      <td>...</td>\n",
       "      <td>...</td>\n",
       "      <td>...</td>\n",
       "      <td>...</td>\n",
       "    </tr>\n",
       "    <tr>\n",
       "      <th>3179</th>\n",
       "      <td>Bloomfield Hills</td>\n",
       "      <td>Michigan</td>\n",
       "      <td>United States of America</td>\n",
       "      <td>0.0</td>\n",
       "      <td>100.0</td>\n",
       "    </tr>\n",
       "    <tr>\n",
       "      <th>3704</th>\n",
       "      <td>Stone Mountain</td>\n",
       "      <td>Georgia</td>\n",
       "      <td>United States of America</td>\n",
       "      <td>0.0</td>\n",
       "      <td>100.0</td>\n",
       "    </tr>\n",
       "    <tr>\n",
       "      <th>2765</th>\n",
       "      <td>Cabudare</td>\n",
       "      <td>Lara</td>\n",
       "      <td>Venezuela</td>\n",
       "      <td>0.0</td>\n",
       "      <td>100.0</td>\n",
       "    </tr>\n",
       "    <tr>\n",
       "      <th>2528</th>\n",
       "      <td>Ta'izz</td>\n",
       "      <td>Ta'izz Governorate</td>\n",
       "      <td>Yemen</td>\n",
       "      <td>0.0</td>\n",
       "      <td>100.0</td>\n",
       "    </tr>\n",
       "    <tr>\n",
       "      <th>2218</th>\n",
       "      <td>Kitwe</td>\n",
       "      <td>Copperbelt Province</td>\n",
       "      <td>Zambia</td>\n",
       "      <td>0.0</td>\n",
       "      <td>100.0</td>\n",
       "    </tr>\n",
       "  </tbody>\n",
       "</table>\n",
       "<p>70 rows × 5 columns</p>\n",
       "</div>"
      ],
      "text/plain": [
       "                  City                Region                    Country  \\\n",
       "2144           Lushnje           Fier County                    Albania   \n",
       "3734            Skikda       Skikda Province                    Algeria   \n",
       "3226        Avellaneda     Santa Fe Province                  Argentina   \n",
       "2654           Bendigo              Victoria                  Australia   \n",
       "3931          Beringen        Flemish Region                    Belgium   \n",
       "...                ...                   ...                        ...   \n",
       "3179  Bloomfield Hills              Michigan   United States of America   \n",
       "3704    Stone Mountain               Georgia   United States of America   \n",
       "2765          Cabudare                  Lara                  Venezuela   \n",
       "2528            Ta'izz    Ta'izz Governorate                      Yemen   \n",
       "2218             Kitwe   Copperbelt Province                     Zambia   \n",
       "\n",
       "      AirQuality  WaterPollution  \n",
       "2144         0.0           100.0  \n",
       "3734         0.0           100.0  \n",
       "3226         0.0           100.0  \n",
       "2654         0.0           100.0  \n",
       "3931         0.0           100.0  \n",
       "...          ...             ...  \n",
       "3179         0.0           100.0  \n",
       "3704         0.0           100.0  \n",
       "2765         0.0           100.0  \n",
       "2528         0.0           100.0  \n",
       "2218         0.0           100.0  \n",
       "\n",
       "[70 rows x 5 columns]"
      ]
     },
     "execution_count": 116,
     "metadata": {},
     "output_type": "execute_result"
    }
   ],
   "source": [
    "#Which Cities have the lowest air quality and highest water pollution level?\n",
    "#70 cities.\n",
    "\n",
    "data[(data['WaterPollution'] == 100 ) & (data['AirQuality']== 0)].sort_values(by='Country')"
   ]
  },
  {
   "cell_type": "code",
   "execution_count": null,
   "id": "35aed4a0",
   "metadata": {},
   "outputs": [],
   "source": []
  },
  {
   "cell_type": "code",
   "execution_count": null,
   "id": "14ead2ac",
   "metadata": {},
   "outputs": [],
   "source": []
  },
  {
   "cell_type": "code",
   "execution_count": null,
   "id": "64731a31",
   "metadata": {},
   "outputs": [],
   "source": []
  },
  {
   "cell_type": "code",
   "execution_count": null,
   "id": "bb759062",
   "metadata": {},
   "outputs": [],
   "source": []
  }
 ],
 "metadata": {
  "kernelspec": {
   "display_name": "Python 3 (ipykernel)",
   "language": "python",
   "name": "python3"
  },
  "language_info": {
   "codemirror_mode": {
    "name": "ipython",
    "version": 3
   },
   "file_extension": ".py",
   "mimetype": "text/x-python",
   "name": "python",
   "nbconvert_exporter": "python",
   "pygments_lexer": "ipython3",
   "version": "3.11.5"
  }
 },
 "nbformat": 4,
 "nbformat_minor": 5
}
