{
 "cells": [
  {
   "cell_type": "code",
   "execution_count": 1,
   "id": "05e74043",
   "metadata": {},
   "outputs": [],
   "source": [
    "import pandas as pd \n",
    "import seaborn as sns\n",
    "import matplotlib.pyplot as plt\n",
    "import numpy as np \n",
    "\n",
    "%matplotlib inline"
   ]
  },
  {
   "cell_type": "code",
   "execution_count": 13,
   "id": "f30bfc36",
   "metadata": {},
   "outputs": [],
   "source": [
    "data=pd.read_csv(r'/Users/smyy.karaalioglu/Desktop/kuggle/air_pollution.csv')"
   ]
  },
  {
   "cell_type": "code",
   "execution_count": 15,
   "id": "b1d55b48",
   "metadata": {},
   "outputs": [
    {
     "data": {
      "text/plain": [
       "Index(['City', ' \"Region\"', ' \"Country\"', ' \"AirQuality\"',\n",
       "       ' \"WaterPollution\"'],\n",
       "      dtype='object')"
      ]
     },
     "execution_count": 15,
     "metadata": {},
     "output_type": "execute_result"
    }
   ],
   "source": [
    "data.columns"
   ]
  },
  {
   "cell_type": "code",
   "execution_count": 16,
   "id": "340dfe09",
   "metadata": {},
   "outputs": [
    {
     "data": {
      "text/html": [
       "<div>\n",
       "<style scoped>\n",
       "    .dataframe tbody tr th:only-of-type {\n",
       "        vertical-align: middle;\n",
       "    }\n",
       "\n",
       "    .dataframe tbody tr th {\n",
       "        vertical-align: top;\n",
       "    }\n",
       "\n",
       "    .dataframe thead th {\n",
       "        text-align: right;\n",
       "    }\n",
       "</style>\n",
       "<table border=\"1\" class=\"dataframe\">\n",
       "  <thead>\n",
       "    <tr style=\"text-align: right;\">\n",
       "      <th></th>\n",
       "      <th>City</th>\n",
       "      <th>\"Region\"</th>\n",
       "      <th>\"Country\"</th>\n",
       "      <th>\"AirQuality\"</th>\n",
       "      <th>\"WaterPollution\"</th>\n",
       "    </tr>\n",
       "  </thead>\n",
       "  <tbody>\n",
       "    <tr>\n",
       "      <th>0</th>\n",
       "      <td>New York City</td>\n",
       "      <td>\"New York\"</td>\n",
       "      <td>\"United States of America\"</td>\n",
       "      <td>46.816038</td>\n",
       "      <td>49.504950</td>\n",
       "    </tr>\n",
       "    <tr>\n",
       "      <th>1</th>\n",
       "      <td>Washington, D.C.</td>\n",
       "      <td>\"District of Columbia\"</td>\n",
       "      <td>\"United States of America\"</td>\n",
       "      <td>66.129032</td>\n",
       "      <td>49.107143</td>\n",
       "    </tr>\n",
       "    <tr>\n",
       "      <th>2</th>\n",
       "      <td>San Francisco</td>\n",
       "      <td>\"California\"</td>\n",
       "      <td>\"United States of America\"</td>\n",
       "      <td>60.514019</td>\n",
       "      <td>43.000000</td>\n",
       "    </tr>\n",
       "    <tr>\n",
       "      <th>3</th>\n",
       "      <td>Berlin</td>\n",
       "      <td>\"\"</td>\n",
       "      <td>\"Germany\"</td>\n",
       "      <td>62.364130</td>\n",
       "      <td>28.612717</td>\n",
       "    </tr>\n",
       "    <tr>\n",
       "      <th>4</th>\n",
       "      <td>Los Angeles</td>\n",
       "      <td>\"California\"</td>\n",
       "      <td>\"United States of America\"</td>\n",
       "      <td>36.621622</td>\n",
       "      <td>61.299435</td>\n",
       "    </tr>\n",
       "  </tbody>\n",
       "</table>\n",
       "</div>"
      ],
      "text/plain": [
       "               City                 \"Region\"                    \"Country\"  \\\n",
       "0     New York City               \"New York\"   \"United States of America\"   \n",
       "1  Washington, D.C.   \"District of Columbia\"   \"United States of America\"   \n",
       "2     San Francisco             \"California\"   \"United States of America\"   \n",
       "3            Berlin                       \"\"                    \"Germany\"   \n",
       "4       Los Angeles             \"California\"   \"United States of America\"   \n",
       "\n",
       "    \"AirQuality\"   \"WaterPollution\"  \n",
       "0      46.816038          49.504950  \n",
       "1      66.129032          49.107143  \n",
       "2      60.514019          43.000000  \n",
       "3      62.364130          28.612717  \n",
       "4      36.621622          61.299435  "
      ]
     },
     "execution_count": 16,
     "metadata": {},
     "output_type": "execute_result"
    }
   ],
   "source": [
    "#Air Quality Column: Air quality varies from 0 (bad quality) to 100 (top good quality)\n",
    "#Water Pollution Column: Water pollution varies from 0 (no pollution) to 100 (extreme pollution)\n",
    "\n",
    "data.head(5)"
   ]
  },
  {
   "cell_type": "code",
   "execution_count": 18,
   "id": "8f98548b",
   "metadata": {},
   "outputs": [
    {
     "data": {
      "text/plain": [
       "City                  object\n",
       " \"Region\"             object\n",
       " \"Country\"            object\n",
       " \"AirQuality\"        float64\n",
       " \"WaterPollution\"    float64\n",
       "dtype: object"
      ]
     },
     "execution_count": 18,
     "metadata": {},
     "output_type": "execute_result"
    }
   ],
   "source": [
    "data.dtypes"
   ]
  },
  {
   "cell_type": "code",
   "execution_count": 19,
   "id": "438a6346",
   "metadata": {},
   "outputs": [
    {
     "data": {
      "text/plain": [
       "City                 0\n",
       " \"Region\"            0\n",
       " \"Country\"           0\n",
       " \"AirQuality\"        0\n",
       " \"WaterPollution\"    0\n",
       "dtype: int64"
      ]
     },
     "execution_count": 19,
     "metadata": {},
     "output_type": "execute_result"
    }
   ],
   "source": [
    "data.isnull().sum()"
   ]
  },
  {
   "cell_type": "code",
   "execution_count": 25,
   "id": "22e947b2",
   "metadata": {},
   "outputs": [
    {
     "data": {
      "text/plain": [
       "City                 3796\n",
       " \"Region\"            1153\n",
       " \"Country\"            177\n",
       " \"AirQuality\"         667\n",
       " \"WaterPollution\"     561\n",
       "dtype: int64"
      ]
     },
     "execution_count": 25,
     "metadata": {},
     "output_type": "execute_result"
    }
   ],
   "source": [
    "data.nunique()"
   ]
  },
  {
   "cell_type": "code",
   "execution_count": 34,
   "id": "179b3626",
   "metadata": {},
   "outputs": [],
   "source": []
  },
  {
   "cell_type": "code",
   "execution_count": 37,
   "id": "e5514ca9",
   "metadata": {},
   "outputs": [],
   "source": [
    "#Cleaning Column Headers\n",
    "\n",
    "data.columns = data.columns.str.replace('\"', '')"
   ]
  },
  {
   "cell_type": "code",
   "execution_count": 38,
   "id": "f9e0f5ce",
   "metadata": {},
   "outputs": [],
   "source": [
    "data.rename(columns={'\"Country\"':'Country'},inplace=True)\n",
    "data.rename(columns={'\"Region\"':'Region'},inplace=True)\n",
    "data.rename(columns={'\"AirQuality\"':'AirQuality'},inplace=True)\n",
    "data.rename(columns={'\"WaterPollution\"':'WaterPollution'},inplace=True)"
   ]
  },
  {
   "cell_type": "code",
   "execution_count": 59,
   "id": "70826378",
   "metadata": {},
   "outputs": [
    {
     "data": {
      "text/html": [
       "<div>\n",
       "<style scoped>\n",
       "    .dataframe tbody tr th:only-of-type {\n",
       "        vertical-align: middle;\n",
       "    }\n",
       "\n",
       "    .dataframe tbody tr th {\n",
       "        vertical-align: top;\n",
       "    }\n",
       "\n",
       "    .dataframe thead th {\n",
       "        text-align: right;\n",
       "    }\n",
       "</style>\n",
       "<table border=\"1\" class=\"dataframe\">\n",
       "  <thead>\n",
       "    <tr style=\"text-align: right;\">\n",
       "      <th></th>\n",
       "      <th>City</th>\n",
       "      <th>Region</th>\n",
       "      <th>Country</th>\n",
       "      <th>AirQuality</th>\n",
       "      <th>WaterPollution</th>\n",
       "    </tr>\n",
       "  </thead>\n",
       "  <tbody>\n",
       "    <tr>\n",
       "      <th>0</th>\n",
       "      <td>New York City</td>\n",
       "      <td>\"New York\"</td>\n",
       "      <td>\"United States of America\"</td>\n",
       "      <td>46.816038</td>\n",
       "      <td>49.50495</td>\n",
       "    </tr>\n",
       "  </tbody>\n",
       "</table>\n",
       "</div>"
      ],
      "text/plain": [
       "            City       Region                      Country  AirQuality  \\\n",
       "0  New York City   \"New York\"   \"United States of America\"   46.816038   \n",
       "\n",
       "   WaterPollution  \n",
       "0        49.50495  "
      ]
     },
     "execution_count": 59,
     "metadata": {},
     "output_type": "execute_result"
    }
   ],
   "source": [
    "data.head(1)"
   ]
  },
  {
   "cell_type": "code",
   "execution_count": 45,
   "id": "b184f390",
   "metadata": {},
   "outputs": [],
   "source": [
    "#There are still unexpected characters in column names\n",
    "\n",
    "import re\n",
    "\n",
    "def clean_column_name(col_name):\n",
    "    return re.sub(r'\\W+', '', col_name)\n",
    "\n",
    "\n",
    "data.columns = [clean_column_name(col) for col in data.columns]"
   ]
  },
  {
   "cell_type": "code",
   "execution_count": 55,
   "id": "7940ea59",
   "metadata": {},
   "outputs": [
    {
     "data": {
      "text/plain": [
       "City              0\n",
       "Region            0\n",
       "Country           0\n",
       "AirQuality        0\n",
       "WaterPollution    0\n",
       "dtype: int64"
      ]
     },
     "execution_count": 55,
     "metadata": {},
     "output_type": "execute_result"
    }
   ],
   "source": [
    "data[data.duplicated()].count()"
   ]
  },
  {
   "cell_type": "code",
   "execution_count": 118,
   "id": "aa7326d1",
   "metadata": {},
   "outputs": [
    {
     "data": {
      "text/html": [
       "<div>\n",
       "<style scoped>\n",
       "    .dataframe tbody tr th:only-of-type {\n",
       "        vertical-align: middle;\n",
       "    }\n",
       "\n",
       "    .dataframe tbody tr th {\n",
       "        vertical-align: top;\n",
       "    }\n",
       "\n",
       "    .dataframe thead th {\n",
       "        text-align: right;\n",
       "    }\n",
       "</style>\n",
       "<table border=\"1\" class=\"dataframe\">\n",
       "  <thead>\n",
       "    <tr style=\"text-align: right;\">\n",
       "      <th></th>\n",
       "      <th>City</th>\n",
       "      <th>Region</th>\n",
       "      <th>Country</th>\n",
       "      <th>AirQuality</th>\n",
       "      <th>WaterPollution</th>\n",
       "    </tr>\n",
       "  </thead>\n",
       "  <tbody>\n",
       "    <tr>\n",
       "      <th>0</th>\n",
       "      <td>New York City</td>\n",
       "      <td>New York</td>\n",
       "      <td>United States of America</td>\n",
       "      <td>46.816038</td>\n",
       "      <td>49.504950</td>\n",
       "    </tr>\n",
       "    <tr>\n",
       "      <th>1</th>\n",
       "      <td>Washington, D.C.</td>\n",
       "      <td>District of Columbia</td>\n",
       "      <td>United States of America</td>\n",
       "      <td>66.129032</td>\n",
       "      <td>49.107143</td>\n",
       "    </tr>\n",
       "  </tbody>\n",
       "</table>\n",
       "</div>"
      ],
      "text/plain": [
       "               City                 Region                    Country  \\\n",
       "0     New York City               New York   United States of America   \n",
       "1  Washington, D.C.   District of Columbia   United States of America   \n",
       "\n",
       "   AirQuality  WaterPollution  \n",
       "0   46.816038       49.504950  \n",
       "1   66.129032       49.107143  "
      ]
     },
     "execution_count": 118,
     "metadata": {},
     "output_type": "execute_result"
    }
   ],
   "source": [
    "#Cleaning rows\n",
    "\n",
    "data['Country'] = data['Country'].str.replace('\"', '')\n",
    "data['Region'] = data['Region'].str.replace('\"', '')\n",
    "data.head(2)"
   ]
  },
  {
   "cell_type": "code",
   "execution_count": 166,
   "id": "1d4675f3",
   "metadata": {},
   "outputs": [
    {
     "data": {
      "text/html": [
       "<div>\n",
       "<style scoped>\n",
       "    .dataframe tbody tr th:only-of-type {\n",
       "        vertical-align: middle;\n",
       "    }\n",
       "\n",
       "    .dataframe tbody tr th {\n",
       "        vertical-align: top;\n",
       "    }\n",
       "\n",
       "    .dataframe thead th {\n",
       "        text-align: right;\n",
       "    }\n",
       "</style>\n",
       "<table border=\"1\" class=\"dataframe\">\n",
       "  <thead>\n",
       "    <tr style=\"text-align: right;\">\n",
       "      <th></th>\n",
       "      <th>City</th>\n",
       "      <th>Region</th>\n",
       "      <th>Country</th>\n",
       "      <th>AirQuality</th>\n",
       "      <th>WaterPollution</th>\n",
       "    </tr>\n",
       "  </thead>\n",
       "  <tbody>\n",
       "    <tr>\n",
       "      <th>0</th>\n",
       "      <td>New York City</td>\n",
       "      <td>New York</td>\n",
       "      <td>United States of America</td>\n",
       "      <td>46.82</td>\n",
       "      <td>49.50</td>\n",
       "    </tr>\n",
       "    <tr>\n",
       "      <th>1</th>\n",
       "      <td>Washington, D.C.</td>\n",
       "      <td>District of Columbia</td>\n",
       "      <td>United States of America</td>\n",
       "      <td>66.13</td>\n",
       "      <td>49.11</td>\n",
       "    </tr>\n",
       "  </tbody>\n",
       "</table>\n",
       "</div>"
      ],
      "text/plain": [
       "               City                 Region                    Country  \\\n",
       "0     New York City               New York   United States of America   \n",
       "1  Washington, D.C.   District of Columbia   United States of America   \n",
       "\n",
       "   AirQuality  WaterPollution  \n",
       "0       46.82           49.50  \n",
       "1       66.13           49.11  "
      ]
     },
     "execution_count": 166,
     "metadata": {},
     "output_type": "execute_result"
    }
   ],
   "source": [
    "data['AirQuality'] = data['AirQuality'].round(2)\n",
    "data.head(2)"
   ]
  },
  {
   "cell_type": "code",
   "execution_count": 165,
   "id": "86e12551",
   "metadata": {},
   "outputs": [
    {
     "data": {
      "text/html": [
       "<div>\n",
       "<style scoped>\n",
       "    .dataframe tbody tr th:only-of-type {\n",
       "        vertical-align: middle;\n",
       "    }\n",
       "\n",
       "    .dataframe tbody tr th {\n",
       "        vertical-align: top;\n",
       "    }\n",
       "\n",
       "    .dataframe thead th {\n",
       "        text-align: right;\n",
       "    }\n",
       "</style>\n",
       "<table border=\"1\" class=\"dataframe\">\n",
       "  <thead>\n",
       "    <tr style=\"text-align: right;\">\n",
       "      <th></th>\n",
       "      <th>City</th>\n",
       "      <th>Region</th>\n",
       "      <th>Country</th>\n",
       "      <th>AirQuality</th>\n",
       "      <th>WaterPollution</th>\n",
       "    </tr>\n",
       "  </thead>\n",
       "  <tbody>\n",
       "    <tr>\n",
       "      <th>0</th>\n",
       "      <td>New York City</td>\n",
       "      <td>New York</td>\n",
       "      <td>United States of America</td>\n",
       "      <td>46.82</td>\n",
       "      <td>49.50</td>\n",
       "    </tr>\n",
       "    <tr>\n",
       "      <th>1</th>\n",
       "      <td>Washington, D.C.</td>\n",
       "      <td>District of Columbia</td>\n",
       "      <td>United States of America</td>\n",
       "      <td>66.13</td>\n",
       "      <td>49.11</td>\n",
       "    </tr>\n",
       "  </tbody>\n",
       "</table>\n",
       "</div>"
      ],
      "text/plain": [
       "               City                 Region                    Country  \\\n",
       "0     New York City               New York   United States of America   \n",
       "1  Washington, D.C.   District of Columbia   United States of America   \n",
       "\n",
       "   AirQuality  WaterPollution  \n",
       "0       46.82           49.50  \n",
       "1       66.13           49.11  "
      ]
     },
     "execution_count": 165,
     "metadata": {},
     "output_type": "execute_result"
    }
   ],
   "source": [
    "data['WaterPollution'] = data['WaterPollution'].round(2)\n",
    "data.head(2)"
   ]
  },
  {
   "cell_type": "code",
   "execution_count": 160,
   "id": "2078b87d",
   "metadata": {},
   "outputs": [
    {
     "data": {
      "text/html": [
       "<div>\n",
       "<style scoped>\n",
       "    .dataframe tbody tr th:only-of-type {\n",
       "        vertical-align: middle;\n",
       "    }\n",
       "\n",
       "    .dataframe tbody tr th {\n",
       "        vertical-align: top;\n",
       "    }\n",
       "\n",
       "    .dataframe thead th {\n",
       "        text-align: right;\n",
       "    }\n",
       "</style>\n",
       "<table border=\"1\" class=\"dataframe\">\n",
       "  <thead>\n",
       "    <tr style=\"text-align: right;\">\n",
       "      <th></th>\n",
       "      <th>City</th>\n",
       "      <th>Region</th>\n",
       "      <th>Country</th>\n",
       "      <th>AirQuality</th>\n",
       "      <th>WaterPollution</th>\n",
       "    </tr>\n",
       "  </thead>\n",
       "  <tbody>\n",
       "    <tr>\n",
       "      <th>1150</th>\n",
       "      <td>Ogden</td>\n",
       "      <td>Utah</td>\n",
       "      <td>United States of America</td>\n",
       "      <td>80.56</td>\n",
       "      <td>0.0</td>\n",
       "    </tr>\n",
       "    <tr>\n",
       "      <th>3283</th>\n",
       "      <td>Warrenton</td>\n",
       "      <td>Virginia</td>\n",
       "      <td>United States of America</td>\n",
       "      <td>100.00</td>\n",
       "      <td>0.0</td>\n",
       "    </tr>\n",
       "    <tr>\n",
       "      <th>3281</th>\n",
       "      <td>Weatherford</td>\n",
       "      <td>Texas</td>\n",
       "      <td>United States of America</td>\n",
       "      <td>100.00</td>\n",
       "      <td>0.0</td>\n",
       "    </tr>\n",
       "    <tr>\n",
       "      <th>3280</th>\n",
       "      <td>Lawrenceville</td>\n",
       "      <td>Georgia</td>\n",
       "      <td>United States of America</td>\n",
       "      <td>100.00</td>\n",
       "      <td>0.0</td>\n",
       "    </tr>\n",
       "    <tr>\n",
       "      <th>1021</th>\n",
       "      <td>Trois-Rivieres</td>\n",
       "      <td>Quebec</td>\n",
       "      <td>Canada</td>\n",
       "      <td>82.14</td>\n",
       "      <td>0.0</td>\n",
       "    </tr>\n",
       "    <tr>\n",
       "      <th>3275</th>\n",
       "      <td>Cape Canaveral</td>\n",
       "      <td>Florida</td>\n",
       "      <td>United States of America</td>\n",
       "      <td>75.00</td>\n",
       "      <td>0.0</td>\n",
       "    </tr>\n",
       "    <tr>\n",
       "      <th>3274</th>\n",
       "      <td>Brentwood</td>\n",
       "      <td>Missouri</td>\n",
       "      <td>United States of America</td>\n",
       "      <td>75.00</td>\n",
       "      <td>0.0</td>\n",
       "    </tr>\n",
       "    <tr>\n",
       "      <th>3263</th>\n",
       "      <td>Wenatchee</td>\n",
       "      <td>Washington</td>\n",
       "      <td>United States of America</td>\n",
       "      <td>25.00</td>\n",
       "      <td>0.0</td>\n",
       "    </tr>\n",
       "    <tr>\n",
       "      <th>3262</th>\n",
       "      <td>Newbridge</td>\n",
       "      <td>Leinster</td>\n",
       "      <td>Ireland</td>\n",
       "      <td>50.00</td>\n",
       "      <td>0.0</td>\n",
       "    </tr>\n",
       "    <tr>\n",
       "      <th>1039</th>\n",
       "      <td>Paide</td>\n",
       "      <td>Jarva County</td>\n",
       "      <td>Estonia</td>\n",
       "      <td>100.00</td>\n",
       "      <td>0.0</td>\n",
       "    </tr>\n",
       "  </tbody>\n",
       "</table>\n",
       "</div>"
      ],
      "text/plain": [
       "                City         Region                    Country  AirQuality  \\\n",
       "1150           Ogden           Utah   United States of America       80.56   \n",
       "3283       Warrenton       Virginia   United States of America      100.00   \n",
       "3281     Weatherford          Texas   United States of America      100.00   \n",
       "3280   Lawrenceville        Georgia   United States of America      100.00   \n",
       "1021  Trois-Rivieres         Quebec                     Canada       82.14   \n",
       "3275  Cape Canaveral        Florida   United States of America       75.00   \n",
       "3274       Brentwood       Missouri   United States of America       75.00   \n",
       "3263       Wenatchee     Washington   United States of America       25.00   \n",
       "3262       Newbridge       Leinster                    Ireland       50.00   \n",
       "1039           Paide   Jarva County                    Estonia      100.00   \n",
       "\n",
       "      WaterPollution  \n",
       "1150             0.0  \n",
       "3283             0.0  \n",
       "3281             0.0  \n",
       "3280             0.0  \n",
       "1021             0.0  \n",
       "3275             0.0  \n",
       "3274             0.0  \n",
       "3263             0.0  \n",
       "3262             0.0  \n",
       "1039             0.0  "
      ]
     },
     "execution_count": 160,
     "metadata": {},
     "output_type": "execute_result"
    }
   ],
   "source": [
    "# Air quality varies from 0 (bad quality) to 100 (top good quality)\n",
    "# Water pollution varies from 0 (no pollution) to 100 (extreme pollution)\n",
    "\n",
    "#Which countries have the highest air quality and lowest water pollution levels?\n",
    "\n",
    "data.sort_values('AirQuality', ascending=False).head(10)\n",
    "\n",
    "data.sort_values('WaterPollution', ascending=True).head(10)"
   ]
  },
  {
   "cell_type": "code",
   "execution_count": 163,
   "id": "140210ae",
   "metadata": {},
   "outputs": [
    {
     "data": {
      "text/html": [
       "<div>\n",
       "<style scoped>\n",
       "    .dataframe tbody tr th:only-of-type {\n",
       "        vertical-align: middle;\n",
       "    }\n",
       "\n",
       "    .dataframe tbody tr th {\n",
       "        vertical-align: top;\n",
       "    }\n",
       "\n",
       "    .dataframe thead th {\n",
       "        text-align: right;\n",
       "    }\n",
       "</style>\n",
       "<table border=\"1\" class=\"dataframe\">\n",
       "  <thead>\n",
       "    <tr style=\"text-align: right;\">\n",
       "      <th></th>\n",
       "      <th>City</th>\n",
       "      <th>Region</th>\n",
       "      <th>Country</th>\n",
       "      <th>AirQuality</th>\n",
       "      <th>WaterPollution</th>\n",
       "    </tr>\n",
       "  </thead>\n",
       "  <tbody>\n",
       "    <tr>\n",
       "      <th>702</th>\n",
       "      <td>Pasay</td>\n",
       "      <td>Metro Manila</td>\n",
       "      <td>Philippines</td>\n",
       "      <td>25.0</td>\n",
       "      <td>100.0</td>\n",
       "    </tr>\n",
       "    <tr>\n",
       "      <th>2761</th>\n",
       "      <td>Labasa</td>\n",
       "      <td>Northern Division</td>\n",
       "      <td>Fiji</td>\n",
       "      <td>50.0</td>\n",
       "      <td>100.0</td>\n",
       "    </tr>\n",
       "    <tr>\n",
       "      <th>1177</th>\n",
       "      <td>San Fernando</td>\n",
       "      <td></td>\n",
       "      <td>Philippines</td>\n",
       "      <td>0.0</td>\n",
       "      <td>100.0</td>\n",
       "    </tr>\n",
       "    <tr>\n",
       "      <th>406</th>\n",
       "      <td>Barquisimeto</td>\n",
       "      <td>Lara</td>\n",
       "      <td>Venezuela</td>\n",
       "      <td>25.0</td>\n",
       "      <td>100.0</td>\n",
       "    </tr>\n",
       "    <tr>\n",
       "      <th>3536</th>\n",
       "      <td>Kluang</td>\n",
       "      <td>Johor</td>\n",
       "      <td>Malaysia</td>\n",
       "      <td>75.0</td>\n",
       "      <td>100.0</td>\n",
       "    </tr>\n",
       "    <tr>\n",
       "      <th>3812</th>\n",
       "      <td>Rutherford</td>\n",
       "      <td>Tennessee</td>\n",
       "      <td>United States of America</td>\n",
       "      <td>0.0</td>\n",
       "      <td>100.0</td>\n",
       "    </tr>\n",
       "    <tr>\n",
       "      <th>402</th>\n",
       "      <td>Rancagua</td>\n",
       "      <td>O'Higgins Region</td>\n",
       "      <td>Chile</td>\n",
       "      <td>0.0</td>\n",
       "      <td>100.0</td>\n",
       "    </tr>\n",
       "    <tr>\n",
       "      <th>3809</th>\n",
       "      <td>Bomassa</td>\n",
       "      <td>Sangha Department</td>\n",
       "      <td>Republic of the Congo</td>\n",
       "      <td>0.0</td>\n",
       "      <td>100.0</td>\n",
       "    </tr>\n",
       "    <tr>\n",
       "      <th>3546</th>\n",
       "      <td>Dondo</td>\n",
       "      <td>Sofala</td>\n",
       "      <td>Mozambique</td>\n",
       "      <td>50.0</td>\n",
       "      <td>100.0</td>\n",
       "    </tr>\n",
       "    <tr>\n",
       "      <th>2103</th>\n",
       "      <td>Kaifeng</td>\n",
       "      <td>Henan</td>\n",
       "      <td>People's Republic of China</td>\n",
       "      <td>0.0</td>\n",
       "      <td>100.0</td>\n",
       "    </tr>\n",
       "  </tbody>\n",
       "</table>\n",
       "</div>"
      ],
      "text/plain": [
       "              City              Region                      Country  \\\n",
       "702          Pasay        Metro Manila                  Philippines   \n",
       "2761        Labasa   Northern Division                         Fiji   \n",
       "1177  San Fernando                                      Philippines   \n",
       "406   Barquisimeto                Lara                    Venezuela   \n",
       "3536        Kluang               Johor                     Malaysia   \n",
       "3812    Rutherford           Tennessee     United States of America   \n",
       "402       Rancagua    O'Higgins Region                        Chile   \n",
       "3809       Bomassa   Sangha Department        Republic of the Congo   \n",
       "3546         Dondo              Sofala                   Mozambique   \n",
       "2103       Kaifeng               Henan   People's Republic of China   \n",
       "\n",
       "      AirQuality  WaterPollution  \n",
       "702         25.0           100.0  \n",
       "2761        50.0           100.0  \n",
       "1177         0.0           100.0  \n",
       "406         25.0           100.0  \n",
       "3536        75.0           100.0  \n",
       "3812         0.0           100.0  \n",
       "402          0.0           100.0  \n",
       "3809         0.0           100.0  \n",
       "3546        50.0           100.0  \n",
       "2103         0.0           100.0  "
      ]
     },
     "execution_count": 163,
     "metadata": {},
     "output_type": "execute_result"
    }
   ],
   "source": [
    "# Air quality varies from 0 (bad quality) to 100 (top good quality)\n",
    "# Water pollution varies from 0 (no pollution) to 100 (extreme pollution)\n",
    "\n",
    "#Which countries have the lowest air quality and highest water pollution levels?\n",
    "\n",
    "data.sort_values('AirQuality', ascending=True).head(10)\n",
    "data.sort_values('WaterPollution', ascending=False).head(10)"
   ]
  },
  {
   "cell_type": "code",
   "execution_count": 164,
   "id": "35aed4a0",
   "metadata": {},
   "outputs": [
    {
     "data": {
      "image/png": "[encoded data removed]",
      "text/plain": [
       "<Figure size 800x600 with 2 Axes>"
      ]
     },
     "metadata": {},
     "output_type": "display_data"
    }
   ],
   "source": [
    "#Is there a correlation between air quality and water pollution levels?\n",
    "\n",
    "correlation_matrix = data[['WaterPollution','AirQuality']].corr()\n",
    "\n",
    "plt.figure(figsize=(8, 6))\n",
    "sns.heatmap(correlation_matrix, annot=True, cmap='coolwarm', fmt='.2f')\n",
    "plt.title('Correlation Heatmap between Water Pollution and Air Quality')\n",
    "plt.show()\n",
    "\n",
    "#Negative correlations move in opposite directions;\n",
    "#There is no correlation between Water Pollution and Air Quality."
   ]
  },
  {
   "cell_type": "code",
   "execution_count": null,
   "id": "14ead2ac",
   "metadata": {},
   "outputs": [],
   "source": [
    "\n"
   ]
  },
  {
   "cell_type": "code",
   "execution_count": null,
   "id": "64731a31",
   "metadata": {},
   "outputs": [],
   "source": []
  }
 ],
 "metadata": {
  "kernelspec": {
   "display_name": "Python 3 (ipykernel)",
   "language": "python",
   "name": "python3"
  },
  "language_info": {
   "codemirror_mode": {
    "name": "ipython",
    "version": 3
   },
   "file_extension": ".py",
   "mimetype": "text/x-python",
   "name": "python",
   "nbconvert_exporter": "python",
   "pygments_lexer": "ipython3",
   "version": "3.11.5"
  }
 },
 "nbformat": 4,
 "nbformat_minor": 5
}
